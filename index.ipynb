{
 "cells": [
  {
   "cell_type": "markdown",
   "metadata": {},
   "source": [
    "# Database Admin 101 - Lab\n",
    "\n",
    "## Introduction \n",
    "\n",
    "In this lab, you'll go through the process of designing and creating a database. From there, you'll begin to populate this table with mock data provided to you.\n",
    "\n",
    "## Objectives\n",
    "\n",
    "You will be able to:\n",
    "\n",
    "* Use knowledge of the structure of databases to create a database and populate it"
   ]
  },
  {
   "cell_type": "markdown",
   "metadata": {},
   "source": [
    "## The Scenario\n",
    "\n",
    "You are looking to design a database for a school that will house various information from student grades to contact information, class roster lists and attendance. First, think of how you would design such a database. What tables would you include? What columns would each table have? What would be the primary means to join said tables?"
   ]
  },
  {
   "cell_type": "markdown",
   "metadata": {},
   "source": [
    "## Creating the Database\n",
    "\n",
    "Now that you've put a little thought into how you might design your database, it's time to go ahead and create it! Start by import the necessary packages. Then, create a database called **school.sqlite**."
   ]
  },
  {
   "cell_type": "code",
   "execution_count": 2,
   "metadata": {},
   "outputs": [],
   "source": [
    "# Import necessary packages\n",
    "# Import necessary packages\n",
    "import sqlite3\n",
    "\n",
    "# Create a connection to the database (this will create the database if it doesn't exist)\n",
    "connection = sqlite3.connect(\"school.sqlite\")\n",
    "\n",
    "# Close the connection (optional for now, as we haven't done anything with the database yet)\n",
    "connection.close()\n"
   ]
  },
  {
   "cell_type": "code",
   "execution_count": 3,
   "metadata": {},
   "outputs": [],
   "source": [
    "# Create the database school.sqlite \n",
    "import sqlite3\n",
    "\n",
    "# Create a connection to the database\n",
    "connection = sqlite3.connect(\"school.sqlite\")\n",
    "\n",
    "# Close the connection\n",
    "connection.close()\n"
   ]
  },
  {
   "cell_type": "markdown",
   "metadata": {},
   "source": [
    "## Create a Table for Contact Information\n",
    "\n",
    "Create a table called contactInfo to house contact information for both students and staff. Be sure to include columns for first name, last name, role (student/staff), telephone number, street, city, state, and zipcode. Be sure to also create a primary key for the table. "
   ]
  },
  {
   "cell_type": "code",
   "execution_count": 5,
   "metadata": {},
   "outputs": [],
   "source": [
    "# Your code here\n",
    "import sqlite3\n",
    "\n",
    "# Create a connection to the database\n",
    "connection = sqlite3.connect(\"school.sqlite\")\n",
    "\n",
    "# Create a cursor object to execute SQL commands\n",
    "cursor = connection.cursor()\n",
    "\n",
    "# Define the SQL query to create the contactInfo table\n",
    "create_table_query = '''\n",
    "CREATE TABLE IF NOT EXISTS contactInfo (\n",
    "    id INTEGER PRIMARY KEY,\n",
    "    first_name TEXT,\n",
    "    last_name TEXT,\n",
    "    role TEXT,\n",
    "    telephone_number TEXT,\n",
    "    street TEXT,\n",
    "    city TEXT,\n",
    "    state TEXT,\n",
    "    zipcode TEXT\n",
    ")\n",
    "'''\n",
    "\n",
    "# Execute the SQL query to create the contactInfo table\n",
    "cursor.execute(create_table_query)\n",
    "\n",
    "# Commit the changes to the database\n",
    "connection.commit()\n",
    "\n",
    "# Close the connection\n",
    "connection.close()\n"
   ]
  },
  {
   "cell_type": "markdown",
   "metadata": {},
   "source": [
    "## Populate the Table\n",
    "\n",
    "Below, code is provided for you in order to load a list of dictionaries. Briefly examine the list. Each dictionary in the list will serve as an entry for your contact info table. Once you've briefly investigated the structure of this data, write a for loop to iterate through the list and create an entry in your table for each person's contact info."
   ]
  },
  {
   "cell_type": "code",
   "execution_count": 7,
   "metadata": {},
   "outputs": [],
   "source": [
    "# Load the list of dictionaries; just run this cell\n",
    "import pickle\n",
    "\n",
    "with open('contact_list.pickle', 'rb') as f:\n",
    "    contacts = pickle.load(f)"
   ]
  },
  {
   "cell_type": "code",
   "execution_count": 22,
   "metadata": {},
   "outputs": [
    {
     "name": "stdout",
     "output_type": "stream",
     "text": [
      "{'firstName': 'Christine', 'lastName': 'Holden', 'role': 'staff', 'telephone ': 2035687697, 'street': '1672 Whitman Court', 'city': 'Stamford', 'state': 'CT', 'zipcode ': '06995'}\n"
     ]
    }
   ],
   "source": [
    "# Iterate over the contact list and populate the contactInfo table here\n",
    "import sqlite3\n",
    "import pickle\n",
    "\n",
    "# Load the list of dictionaries\n",
    "with open('contact_list.pickle', 'rb') as f:\n",
    "    contacts = pickle.load(f)\n",
    "\n",
    "# Print out the structure of one dictionary from the contacts list\n",
    "print(contacts[0])  # Assuming there's at least one dictionary in the list\n",
    "\n",
    "# Create a connection to the database\n",
    "connection = sqlite3.connect(\"school.sqlite\")\n",
    "\n",
    "# Create a cursor object to execute SQL commands\n",
    "cursor = connection.cursor()\n",
    "\n",
    "# Iterate over the contact list and populate the contactInfo table\n",
    "for contact in contacts:\n",
    "    # Extract values from the dictionary\n",
    "    # Update the key names according to the structure of the dictionary\n",
    "    first_name = contact.get('FirstName', '')  # Update key names if necessary\n",
    "    last_name = contact.get('LastName', '')    # Update key names if necessary\n",
    "    role = contact.get('Role', '')              # Update key names if necessary\n",
    "    telephone_number = contact.get('PhoneNumber', '')  # Update key names if necessary\n",
    "    street = contact.get('Street', '')          # Update key names if necessary\n",
    "    city = contact.get('City', '')              # Update key names if necessary\n",
    "    state = contact.get('State', '')            # Update key names if necessary\n",
    "    zipcode = contact.get('ZipCode', '')        # Update key names if necessary\n",
    "    \n",
    "    # Insert the values into the contactInfo table\n",
    "    cursor.execute('''INSERT INTO contactInfo \n",
    "                      (first_name, last_name, role, telephone_number, street, city, state, zipcode) \n",
    "                      VALUES (?, ?, ?, ?, ?, ?, ?, ?)''', \n",
    "                   (first_name, last_name, role, telephone_number, street, city, state, zipcode))\n",
    "\n",
    "# Commit the changes to the database\n",
    "connection.commit()\n",
    "\n",
    "# Close the connection\n",
    "connection.close()\n",
    "\n"
   ]
  },
  {
   "cell_type": "markdown",
   "metadata": {},
   "source": [
    "**Query the Table to Ensure it is populated**"
   ]
  },
  {
   "cell_type": "code",
   "execution_count": 23,
   "metadata": {},
   "outputs": [
    {
     "name": "stdout",
     "output_type": "stream",
     "text": [
      "(1, '', '', '', '', '', '', '', '')\n",
      "(2, '', '', '', '', '', '', '', '')\n",
      "(3, '', '', '', '', '', '', '', '')\n",
      "(4, '', '', '', '', '', '', '', '')\n",
      "(5, '', '', '', '', '', '', '', '')\n",
      "(6, '', '', '', '', '', '', '', '')\n",
      "(7, '', '', '', '', '', '', '', '')\n",
      "(8, '', '', '', '', '', '', '', '')\n"
     ]
    }
   ],
   "source": [
    "# Your code here \n",
    "import sqlite3\n",
    "\n",
    "# Create a connection to the database\n",
    "connection = sqlite3.connect(\"school.sqlite\")\n",
    "\n",
    "# Create a cursor object to execute SQL commands\n",
    "cursor = connection.cursor()\n",
    "\n",
    "# Query the contactInfo table to retrieve all rows\n",
    "cursor.execute(\"SELECT * FROM contactInfo\")\n",
    "\n",
    "# Fetch all rows from the result set\n",
    "rows = cursor.fetchall()\n",
    "\n",
    "# Print the rows\n",
    "for row in rows:\n",
    "    print(row)\n",
    "\n",
    "# Close the connection\n",
    "connection.close()\n"
   ]
  },
  {
   "cell_type": "markdown",
   "metadata": {},
   "source": [
    "## Commit Your Changes to the Database\n",
    "\n",
    "Persist your changes by committing them to the database."
   ]
  },
  {
   "cell_type": "code",
   "execution_count": 24,
   "metadata": {},
   "outputs": [],
   "source": [
    "# Your code here\n",
    "import sqlite3\n",
    "\n",
    "# Create a connection to the database\n",
    "connection = sqlite3.connect(\"school.sqlite\")\n",
    "\n",
    "# Commit the changes to the database\n",
    "connection.commit()\n",
    "\n",
    "# Close the connection\n",
    "connection.close()\n"
   ]
  },
  {
   "cell_type": "markdown",
   "metadata": {},
   "source": [
    "## Create a Table for Student Grades\n",
    "\n",
    "Create a new table in the database called \"grades\". In the table, include the following fields: userId, courseId, grade.\n",
    "\n",
    "** This problem is a bit more tricky and will require a dual key. (A nuance you have yet to see.)\n",
    "Here's how to do that:\n",
    "\n",
    "```SQL\n",
    "CREATE TABLE table_name(\n",
    "   column_1 INTEGER NOT NULL,\n",
    "   column_2 INTEGER NOT NULL,\n",
    "   ...\n",
    "   PRIMARY KEY(column_1,column_2,...)\n",
    ");\n",
    "```"
   ]
  },
  {
   "cell_type": "code",
   "execution_count": 25,
   "metadata": {},
   "outputs": [],
   "source": [
    "# Create the grades table\n",
    "import sqlite3\n",
    "\n",
    "# Create a connection to the database\n",
    "connection = sqlite3.connect(\"school.sqlite\")\n",
    "\n",
    "# Create a cursor object to execute SQL commands\n",
    "cursor = connection.cursor()\n",
    "\n",
    "# Define the SQL query to create the grades table\n",
    "create_grades_table_query = '''\n",
    "CREATE TABLE IF NOT EXISTS grades (\n",
    "    userId INTEGER NOT NULL,\n",
    "    courseId INTEGER NOT NULL,\n",
    "    grade TEXT,\n",
    "    PRIMARY KEY(userId, courseId)\n",
    ")\n",
    "'''\n",
    "\n",
    "# Execute the SQL query to create the grades table\n",
    "cursor.execute(create_grades_table_query)\n",
    "\n",
    "# Commit the changes to the database\n",
    "connection.commit()\n",
    "\n",
    "# Close the connection\n",
    "connection.close()\n"
   ]
  },
  {
   "cell_type": "markdown",
   "metadata": {},
   "source": [
    "## Remove Duplicate Entries\n",
    "\n",
    "An analyst just realized that there is a duplicate entry in the contactInfo table! Find and remove it."
   ]
  },
  {
   "cell_type": "code",
   "execution_count": 27,
   "metadata": {},
   "outputs": [
    {
     "name": "stdout",
     "output_type": "stream",
     "text": [
      "Duplicate entries found:\n",
      "('', '', 8)\n",
      "Duplicate entries removed.\n"
     ]
    }
   ],
   "source": [
    "# Find the duplicate entry\n",
    "import sqlite3\n",
    "\n",
    "# Create a connection to the database\n",
    "connection = sqlite3.connect(\"school.sqlite\")\n",
    "\n",
    "# Create a cursor object to execute SQL commands\n",
    "cursor = connection.cursor()\n",
    "\n",
    "# Find the duplicate entry using a subquery to count occurrences of each row\n",
    "find_duplicate_query = '''\n",
    "SELECT first_name, last_name, COUNT(*) \n",
    "FROM contactInfo \n",
    "GROUP BY first_name, last_name \n",
    "HAVING COUNT(*) > 1\n",
    "'''\n",
    "\n",
    "# Execute the query to find duplicate entries\n",
    "cursor.execute(find_duplicate_query)\n",
    "\n",
    "# Fetch all duplicate rows\n",
    "duplicate_rows = cursor.fetchall()\n",
    "\n",
    "if duplicate_rows:\n",
    "    print(\"Duplicate entries found:\")\n",
    "    for row in duplicate_rows:\n",
    "        print(row)\n",
    "    \n",
    "    # Remove duplicate entries\n",
    "    remove_duplicate_query = '''\n",
    "    DELETE FROM contactInfo \n",
    "    WHERE ROWID NOT IN (\n",
    "        SELECT MIN(ROWID) \n",
    "        FROM contactInfo \n",
    "        GROUP BY first_name, last_name\n",
    "    )\n",
    "    '''\n",
    "    \n",
    "    # Execute the query to remove duplicate entries\n",
    "    cursor.execute(remove_duplicate_query)\n",
    "    \n",
    "    # Commit the changes to the database\n",
    "    connection.commit()\n",
    "    \n",
    "    print(\"Duplicate entries removed.\")\n",
    "else:\n",
    "    print(\"No duplicate entries found.\")\n",
    "\n",
    "# Close the connection\n",
    "connection.close()\n"
   ]
  },
  {
   "cell_type": "code",
   "execution_count": 29,
   "metadata": {},
   "outputs": [],
   "source": [
    "# Delete the duplicate entry\n",
    "import sqlite3\n",
    "\n",
    "# Create a connection to the database\n",
    "connection = sqlite3.connect(\"school.sqlite\")\n",
    "\n",
    "# Create a cursor object to execute SQL commands\n",
    "cursor = connection.cursor()\n",
    "\n",
    "# Define the SQL query to delete the duplicate entry\n",
    "delete_duplicate_query = '''\n",
    "DELETE FROM contactInfo \n",
    "WHERE ROWID NOT IN (\n",
    "    SELECT MIN(ROWID) \n",
    "    FROM contactInfo \n",
    "    GROUP BY first_name, last_name\n",
    ")\n",
    "'''\n",
    "\n",
    "# Execute the query to delete the duplicate entry\n",
    "cursor.execute(delete_duplicate_query)\n",
    "\n",
    "# Commit the changes to the database\n",
    "connection.commit()\n",
    "\n",
    "# Close the connection\n",
    "connection.close()\n"
   ]
  },
  {
   "cell_type": "code",
   "execution_count": 30,
   "metadata": {},
   "outputs": [
    {
     "name": "stdout",
     "output_type": "stream",
     "text": [
      "No duplicate entries found. The duplicate entry was successfully removed.\n"
     ]
    }
   ],
   "source": [
    "# Check that the duplicate entry was removed\n",
    "import sqlite3\n",
    "\n",
    "# Create a connection to the database\n",
    "connection = sqlite3.connect(\"school.sqlite\")\n",
    "\n",
    "# Create a cursor object to execute SQL commands\n",
    "cursor = connection.cursor()\n",
    "\n",
    "# Query the contactInfo table to check for duplicate entries\n",
    "cursor.execute('''\n",
    "    SELECT first_name, last_name, COUNT(*) \n",
    "    FROM contactInfo \n",
    "    GROUP BY first_name, last_name \n",
    "    HAVING COUNT(*) > 1\n",
    "''')\n",
    "\n",
    "# Fetch all rows from the result set\n",
    "duplicate_rows = cursor.fetchall()\n",
    "\n",
    "# Check if there are any duplicate entries left\n",
    "if len(duplicate_rows) == 0:\n",
    "    print(\"No duplicate entries found. The duplicate entry was successfully removed.\")\n",
    "else:\n",
    "    print(\"Duplicate entries still exist in the table. The removal process might not have been successful.\")\n",
    "\n",
    "# Close the connection\n",
    "connection.close()\n"
   ]
  },
  {
   "cell_type": "markdown",
   "metadata": {},
   "source": [
    "## Updating an Address\n",
    "\n",
    "Ed Lyman just moved to `2910 Simpson Avenue York, PA 17403`. Update his address accordingly."
   ]
  },
  {
   "cell_type": "code",
   "execution_count": 31,
   "metadata": {},
   "outputs": [],
   "source": [
    "# Update Ed's address\n",
    "import sqlite3\n",
    "\n",
    "# Create a connection to the database\n",
    "connection = sqlite3.connect(\"school.sqlite\")\n",
    "\n",
    "# Create a cursor object to execute SQL commands\n",
    "cursor = connection.cursor()\n",
    "\n",
    "# Define the new address\n",
    "new_address = \"2910 Simpson Avenue, York, PA 17403\"\n",
    "\n",
    "# Define the SQL query to update Ed Lyman's address\n",
    "update_address_query = '''\n",
    "UPDATE contactInfo \n",
    "SET street = ? \n",
    "WHERE first_name = 'Ed' AND last_name = 'Lyman'\n",
    "'''\n",
    "\n",
    "# Execute the query to update Ed Lyman's address\n",
    "cursor.execute(update_address_query, (new_address,))\n",
    "\n",
    "# Commit the changes to the database\n",
    "connection.commit()\n",
    "\n",
    "# Close the connection\n",
    "connection.close()\n"
   ]
  },
  {
   "cell_type": "code",
   "execution_count": 32,
   "metadata": {},
   "outputs": [
    {
     "name": "stdout",
     "output_type": "stream",
     "text": [
      "Ed Lyman's information not found.\n"
     ]
    }
   ],
   "source": [
    "# Query the database to ensure the change was made\n",
    "import sqlite3\n",
    "\n",
    "# Create a connection to the database\n",
    "connection = sqlite3.connect(\"school.sqlite\")\n",
    "\n",
    "# Create a cursor object to execute SQL commands\n",
    "cursor = connection.cursor()\n",
    "\n",
    "# Define the SQL query to select Ed Lyman's information\n",
    "select_ed_lyman_query = '''\n",
    "SELECT * FROM contactInfo \n",
    "WHERE first_name = 'Ed' AND last_name = 'Lyman'\n",
    "'''\n",
    "\n",
    "# Execute the query to select Ed Lyman's information\n",
    "cursor.execute(select_ed_lyman_query)\n",
    "\n",
    "# Fetch the row from the result set\n",
    "ed_lyman_info = cursor.fetchone()\n",
    "\n",
    "if ed_lyman_info:\n",
    "    print(\"Ed Lyman's updated information:\")\n",
    "    print(\"First Name:\", ed_lyman_info[1])\n",
    "    print(\"Last Name:\", ed_lyman_info[2])\n",
    "    print(\"Role:\", ed_lyman_info[3])\n",
    "    print(\"Telephone Number:\", ed_lyman_info[4])\n",
    "    print(\"Street:\", ed_lyman_info[5])\n",
    "    print(\"City:\", ed_lyman_info[6])\n",
    "    print(\"State:\", ed_lyman_info[7])\n",
    "    print(\"Zipcode:\", ed_lyman_info[8])\n",
    "else:\n",
    "    print(\"Ed Lyman's information not found.\")\n",
    "\n",
    "# Close the connection\n",
    "connection.close()\n"
   ]
  },
  {
   "cell_type": "markdown",
   "metadata": {},
   "source": [
    "## Commit Your Changes to the Database\n",
    "\n",
    "Once again, persist your changes by committing them to the database."
   ]
  },
  {
   "cell_type": "code",
   "execution_count": 33,
   "metadata": {},
   "outputs": [],
   "source": [
    "# Your code here\n",
    "import sqlite3\n",
    "\n",
    "# Create a connection to the database\n",
    "connection = sqlite3.connect(\"school.sqlite\")\n",
    "\n",
    "# Commit the changes to the database\n",
    "connection.commit()\n",
    "\n",
    "# Close the connection\n",
    "connection.close()\n"
   ]
  },
  {
   "cell_type": "markdown",
   "metadata": {},
   "source": [
    "## Summary\n",
    "\n",
    "While there's certainly more to do with setting up and managing this database, you got a taste for creating, populating, and maintaining databases! Feel free to continue fleshing out this exercise for more practice. "
   ]
  }
 ],
 "metadata": {
  "kernelspec": {
   "display_name": "Python 3 (ipykernel)",
   "language": "python",
   "name": "python3"
  },
  "language_info": {
   "codemirror_mode": {
    "name": "ipython",
    "version": 3
   },
   "file_extension": ".py",
   "mimetype": "text/x-python",
   "name": "python",
   "nbconvert_exporter": "python",
   "pygments_lexer": "ipython3",
   "version": "3.8.16"
  },
  "toc": {
   "base_numbering": 1,
   "nav_menu": {},
   "number_sections": true,
   "sideBar": true,
   "skip_h1_title": false,
   "title_cell": "Table of Contents",
   "title_sidebar": "Contents",
   "toc_cell": false,
   "toc_position": {},
   "toc_section_display": true,
   "toc_window_display": false
  }
 },
 "nbformat": 4,
 "nbformat_minor": 4
}
